{
 "cells": [
  {
   "cell_type": "code",
   "execution_count": null,
   "metadata": {},
   "outputs": [],
   "source": [
    "from quantrion import settings\n",
    "\n",
    "settings.DEFAULT_TIMEFRAME = \"5min\"\n",
    "\n",
    "from quantrion.asset.alpaca import AlpacaUSStockListProvider, AlpacaUSStock\n",
    "from quantrion.data.alpaca import _data_to_df, BAR_FIELDS_TO_NAMES\n",
    "from quantrion.utils import retry_request\n",
    "\n",
    "import httpx\n",
    "import pandas as pd\n",
    "import pytz\n",
    "\n",
    "%load_ext autoreload\n",
    "%autoreload 2"
   ]
  },
  {
   "cell_type": "code",
   "execution_count": null,
   "metadata": {},
   "outputs": [],
   "source": [
    "stocks = await AlpacaUSStockListProvider().list_assets()"
   ]
  },
  {
   "cell_type": "code",
   "execution_count": null,
   "metadata": {},
   "outputs": [],
   "source": [
    "end = stocks[0].localize(pd.Timestamp.utcnow()).floor(\"D\")\n",
    "start = end - pd.Timedelta(days=30)\n",
    "good_stocks = []\n",
    "\n",
    "for i, stock in enumerate(stocks, 1):\n",
    "    async with httpx.AsyncClient() as client:\n",
    "        url = f\"https://data.alpaca.markets/v2/stocks/{stock.symbol}/bars\"\n",
    "        headers = {\n",
    "            \"APCA-API-KEY-ID\": settings.ALPACA_API_KEY_ID,\n",
    "            \"APCA-API-SECRET-KEY\": settings.ALPACA_API_KEY_SECRET,\n",
    "        }\n",
    "        start = start.astimezone(pytz.UTC)\n",
    "        end = end.astimezone(pytz.UTC)\n",
    "        params = {\n",
    "            \"timeframe\": \"1Day\",\n",
    "            \"start\": start.isoformat(),\n",
    "            \"adjustment\": \"all\",\n",
    "        }\n",
    "        response = await retry_request(\n",
    "            client, \"get\", url, params=params, headers=headers\n",
    "        )\n",
    "        response.raise_for_status()\n",
    "        data = response.json().get(\"bars\", []) or []\n",
    "        if len(data) == 0:\n",
    "            continue\n",
    "    df = _data_to_df(data, BAR_FIELDS_TO_NAMES, stock)\n",
    "    volume = df[\"volume\"].fillna(0).mean()\n",
    "    if volume < 1_000_000:\n",
    "        continue\n",
    "    print(\"%s. Interesting stock (%s, %s)\" % (i, stock.symbol, volume))\n",
    "    good_stocks.append((stock.symbol, volume))\n",
    "\n",
    "good_stocks = pd.DataFrame(good_stocks, columns=[\"symbol\", \"volume\"]).sort_values(\n",
    "    \"volume\", ascending=False\n",
    ")\n",
    "print(\"Found %d interesting stocks\" % len(good_stocks))"
   ]
  },
  {
   "cell_type": "code",
   "execution_count": null,
   "metadata": {},
   "outputs": [],
   "source": [
    "good_stocks.to_csv(\"files/good_stocks.csv\", index=False)"
   ]
  },
  {
   "cell_type": "code",
   "execution_count": null,
   "metadata": {},
   "outputs": [],
   "source": [
    "import gc\n",
    "\n",
    "market_open, market_close = pd.Timestamp(\"09:30\").time(), pd.Timestamp(\"16:00\").time()\n",
    "\n",
    "for n, (_, row) in enumerate(good_stocks.iterrows(), 1):\n",
    "    df = None\n",
    "    stock = AlpacaUSStock(row[\"symbol\"])\n",
    "    for i in range(4, -1, -1):\n",
    "        year = stock.localize(pd.Timestamp.utcnow()).year\n",
    "        start = stock.localize(pd.Timestamp(year - i, 1, 1))\n",
    "        end = stock.localize(pd.Timestamp(year - i + 1, 1, 1))\n",
    "        new_df = await stock.bars.get(start, end)\n",
    "        new_df = new_df.between_time(market_open, market_close).dropna()\n",
    "        if df is None:\n",
    "            df = new_df\n",
    "        else:\n",
    "            df = pd.concat([df, new_df])\n",
    "    if n % 10 == 0:\n",
    "        print(\"Processed %d stocks\" % n)\n",
    "    df.to_csv(\"files/stocks/%s.csv\" % stock.symbol)\n",
    "    del stock\n",
    "    gc.collect()"
   ]
  },
  {
   "cell_type": "code",
   "execution_count": null,
   "metadata": {},
   "outputs": [],
   "source": []
  }
 ],
 "metadata": {
  "kernelspec": {
   "display_name": "Python 3.9.5 ('quantrion-dHFsm2Ya-py3.9')",
   "language": "python",
   "name": "python3"
  },
  "language_info": {
   "codemirror_mode": {
    "name": "ipython",
    "version": 3
   },
   "file_extension": ".py",
   "mimetype": "text/x-python",
   "name": "python",
   "nbconvert_exporter": "python",
   "pygments_lexer": "ipython3",
   "version": "3.9.5"
  },
  "orig_nbformat": 4,
  "vscode": {
   "interpreter": {
    "hash": "41ede3e6dc743b7770fb559b511fbc0edca9becde7ce77d5a8e551d360cff314"
   }
  }
 },
 "nbformat": 4,
 "nbformat_minor": 2
}
