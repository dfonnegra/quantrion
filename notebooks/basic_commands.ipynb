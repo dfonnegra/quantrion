{
 "cells": [
  {
   "cell_type": "code",
   "execution_count": null,
   "id": "666ce1f4",
   "metadata": {},
   "outputs": [],
   "source": [
    "from datetime import datetime, date, timedelta\n",
    "from dotenv import load_dotenv\n",
    "\n",
    "from quantrion.asset.alpaca import (\n",
    "    AlpacaUSStock,\n",
    "    AlpacaUSStockListProvider,\n",
    "    AlpacaCrypto,\n",
    ")\n",
    "from quantrion import settings\n",
    "\n",
    "load_dotenv()\n",
    "%load_ext autoreload\n",
    "%autoreload 2"
   ]
  },
  {
   "cell_type": "code",
   "execution_count": null,
   "id": "f0429c76",
   "metadata": {},
   "outputs": [],
   "source": [
    "asset = AlpacaUSStock(\"AAPL\")\n",
    "start = asset.dt.now() - timedelta(days=5)\n",
    "bars = await asset.bars.get(start, freq=\"5min\")"
   ]
  },
  {
   "cell_type": "code",
   "execution_count": null,
   "id": "d3526178",
   "metadata": {},
   "outputs": [],
   "source": [
    "bars.head()"
   ]
  },
  {
   "cell_type": "code",
   "execution_count": null,
   "id": "af8cc895",
   "metadata": {},
   "outputs": [],
   "source": [
    "asset.restriction.filter(bars).head()"
   ]
  },
  {
   "cell_type": "code",
   "execution_count": null,
   "id": "c79d2359",
   "metadata": {},
   "outputs": [],
   "source": [
    "crypto = AlpacaCrypto(\"BTC/USD\")\n",
    "start = crypto.dt.now() - timedelta(days=365)\n",
    "bars = await crypto.bars.get(start, freq=\"3min\")"
   ]
  },
  {
   "cell_type": "code",
   "execution_count": null,
   "id": "7041cfb4",
   "metadata": {},
   "outputs": [],
   "source": [
    "bars.to_csv(\"files/btc_historical.csv\", index_label=\"start\")"
   ]
  },
  {
   "cell_type": "code",
   "execution_count": null,
   "id": "59686c98",
   "metadata": {},
   "outputs": [],
   "source": [
    "bars.tail()"
   ]
  },
  {
   "cell_type": "code",
   "execution_count": null,
   "id": "e3a9431c",
   "metadata": {},
   "outputs": [],
   "source": [
    "from datetime import datetime, date, timedelta\n",
    "from dotenv import load_dotenv\n",
    "\n",
    "from quantrion.asset.file import CSVUSStock\n",
    "from quantrion import settings\n",
    "\n",
    "load_dotenv()\n",
    "%load_ext autoreload\n",
    "%autoreload 2"
   ]
  },
  {
   "cell_type": "code",
   "execution_count": null,
   "id": "9e308aa2",
   "metadata": {},
   "outputs": [],
   "source": [
    "stock = CSVUSStock(\"AAPL\", \"files/apple_historical.csv\")"
   ]
  },
  {
   "cell_type": "code",
   "execution_count": null,
   "id": "b2ee8b24",
   "metadata": {},
   "outputs": [],
   "source": [
    "await stock.bars.subscribe()"
   ]
  },
  {
   "cell_type": "code",
   "execution_count": null,
   "id": "5f5e3275",
   "metadata": {},
   "outputs": [],
   "source": [
    "end = stock.bars._df.index[-1]\n",
    "last_ts = None\n",
    "while last_ts != end:\n",
    "    last_bar = await stock.bars.wait_for_next(freq=\"3min\")\n",
    "    # print(last_bar)\n",
    "    last_ts = last_bar.name"
   ]
  },
  {
   "cell_type": "code",
   "execution_count": null,
   "id": "b1aae50b",
   "metadata": {},
   "outputs": [],
   "source": [
    "for i in stock.bars._df.index:\n",
    "    pass"
   ]
  },
  {
   "cell_type": "code",
   "execution_count": null,
   "id": "ee66b522",
   "metadata": {},
   "outputs": [],
   "source": []
  }
 ],
 "metadata": {
  "kernelspec": {
   "display_name": "Python 3.9.5 ('quantrion-dHFsm2Ya-py3.9')",
   "language": "python",
   "name": "python3"
  },
  "language_info": {
   "codemirror_mode": {
    "name": "ipython",
    "version": 3
   },
   "file_extension": ".py",
   "mimetype": "text/x-python",
   "name": "python",
   "nbconvert_exporter": "python",
   "pygments_lexer": "ipython3",
   "version": "3.9.5"
  },
  "vscode": {
   "interpreter": {
    "hash": "41ede3e6dc743b7770fb559b511fbc0edca9becde7ce77d5a8e551d360cff314"
   }
  }
 },
 "nbformat": 4,
 "nbformat_minor": 5
}
