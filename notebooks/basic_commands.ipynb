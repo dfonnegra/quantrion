{
 "cells": [
  {
   "cell_type": "code",
   "execution_count": 7,
   "id": "666ce1f4",
   "metadata": {},
   "outputs": [],
   "source": [
    "from datetime import datetime, date, timedelta\n",
    "from dotenv import load_dotenv\n",
    "\n",
    "from quantrion import settings\n",
    "\n",
    "load_dotenv()\n",
    "%load_ext autoreload\n",
    "%autoreload 2"
   ]
  },
  {
   "cell_type": "code",
   "execution_count": 8,
   "id": "6616e9af",
   "metadata": {},
   "outputs": [],
   "source": [
    "from quantrion.asset.alpaca import AlpacaUSStock"
   ]
  },
  {
   "cell_type": "code",
   "execution_count": 9,
   "id": "f0429c76",
   "metadata": {},
   "outputs": [],
   "source": [
    "asset = AlpacaUSStock(\"AAPL\")"
   ]
  },
  {
   "cell_type": "code",
   "execution_count": 17,
   "id": "12454ea1",
   "metadata": {},
   "outputs": [],
   "source": [
    "start = asset.dt.now() - timedelta(days=5)\n",
    "bars = await asset.bars.get(start, freq=\"5min\")"
   ]
  },
  {
   "cell_type": "code",
   "execution_count": 18,
   "id": "d3526178",
   "metadata": {},
   "outputs": [
    {
     "data": {
      "text/html": [
       "<div>\n",
       "<style scoped>\n",
       "    .dataframe tbody tr th:only-of-type {\n",
       "        vertical-align: middle;\n",
       "    }\n",
       "\n",
       "    .dataframe tbody tr th {\n",
       "        vertical-align: top;\n",
       "    }\n",
       "\n",
       "    .dataframe thead th {\n",
       "        text-align: right;\n",
       "    }\n",
       "</style>\n",
       "<table border=\"1\" class=\"dataframe\">\n",
       "  <thead>\n",
       "    <tr style=\"text-align: right;\">\n",
       "      <th></th>\n",
       "      <th>open</th>\n",
       "      <th>high</th>\n",
       "      <th>low</th>\n",
       "      <th>close</th>\n",
       "      <th>volume</th>\n",
       "      <th>price</th>\n",
       "    </tr>\n",
       "  </thead>\n",
       "  <tbody>\n",
       "    <tr>\n",
       "      <th>2022-08-29 02:00:00-04:00</th>\n",
       "      <td>160.72</td>\n",
       "      <td>160.72</td>\n",
       "      <td>160.72</td>\n",
       "      <td>160.72</td>\n",
       "      <td>117</td>\n",
       "      <td>160.72</td>\n",
       "    </tr>\n",
       "    <tr>\n",
       "      <th>2022-08-29 02:40:00-04:00</th>\n",
       "      <td>160.15</td>\n",
       "      <td>160.15</td>\n",
       "      <td>160.10</td>\n",
       "      <td>160.10</td>\n",
       "      <td>718</td>\n",
       "      <td>160.122758</td>\n",
       "    </tr>\n",
       "    <tr>\n",
       "      <th>2022-08-29 02:45:00-04:00</th>\n",
       "      <td>160.14</td>\n",
       "      <td>160.14</td>\n",
       "      <td>160.07</td>\n",
       "      <td>160.07</td>\n",
       "      <td>682</td>\n",
       "      <td>160.118519</td>\n",
       "    </tr>\n",
       "    <tr>\n",
       "      <th>2022-08-29 02:55:00-04:00</th>\n",
       "      <td>160.10</td>\n",
       "      <td>160.10</td>\n",
       "      <td>160.10</td>\n",
       "      <td>160.10</td>\n",
       "      <td>169</td>\n",
       "      <td>160.1</td>\n",
       "    </tr>\n",
       "    <tr>\n",
       "      <th>2022-08-29 03:00:00-04:00</th>\n",
       "      <td>160.41</td>\n",
       "      <td>160.61</td>\n",
       "      <td>160.41</td>\n",
       "      <td>160.61</td>\n",
       "      <td>601</td>\n",
       "      <td>160.509983</td>\n",
       "    </tr>\n",
       "  </tbody>\n",
       "</table>\n",
       "</div>"
      ],
      "text/plain": [
       "                             open    high     low   close volume       price\n",
       "2022-08-29 02:00:00-04:00  160.72  160.72  160.72  160.72    117      160.72\n",
       "2022-08-29 02:40:00-04:00  160.15  160.15  160.10  160.10    718  160.122758\n",
       "2022-08-29 02:45:00-04:00  160.14  160.14  160.07  160.07    682  160.118519\n",
       "2022-08-29 02:55:00-04:00  160.10  160.10  160.10  160.10    169       160.1\n",
       "2022-08-29 03:00:00-04:00  160.41  160.61  160.41  160.61    601  160.509983"
      ]
     },
     "execution_count": 18,
     "metadata": {},
     "output_type": "execute_result"
    }
   ],
   "source": [
    "bars.head()"
   ]
  },
  {
   "cell_type": "code",
   "execution_count": 20,
   "id": "af8cc895",
   "metadata": {},
   "outputs": [
    {
     "data": {
      "text/html": [
       "<div>\n",
       "<style scoped>\n",
       "    .dataframe tbody tr th:only-of-type {\n",
       "        vertical-align: middle;\n",
       "    }\n",
       "\n",
       "    .dataframe tbody tr th {\n",
       "        vertical-align: top;\n",
       "    }\n",
       "\n",
       "    .dataframe thead th {\n",
       "        text-align: right;\n",
       "    }\n",
       "</style>\n",
       "<table border=\"1\" class=\"dataframe\">\n",
       "  <thead>\n",
       "    <tr style=\"text-align: right;\">\n",
       "      <th></th>\n",
       "      <th>open</th>\n",
       "      <th>high</th>\n",
       "      <th>low</th>\n",
       "      <th>close</th>\n",
       "      <th>volume</th>\n",
       "      <th>price</th>\n",
       "    </tr>\n",
       "  </thead>\n",
       "  <tbody>\n",
       "    <tr>\n",
       "      <th>2022-08-29 09:30:00-04:00</th>\n",
       "      <td>161.145</td>\n",
       "      <td>162.340</td>\n",
       "      <td>160.60</td>\n",
       "      <td>162.3400</td>\n",
       "      <td>4840301</td>\n",
       "      <td>161.397846</td>\n",
       "    </tr>\n",
       "    <tr>\n",
       "      <th>2022-08-29 09:35:00-04:00</th>\n",
       "      <td>162.360</td>\n",
       "      <td>162.750</td>\n",
       "      <td>162.00</td>\n",
       "      <td>162.0500</td>\n",
       "      <td>1637224</td>\n",
       "      <td>162.333715</td>\n",
       "    </tr>\n",
       "    <tr>\n",
       "      <th>2022-08-29 09:40:00-04:00</th>\n",
       "      <td>162.030</td>\n",
       "      <td>162.490</td>\n",
       "      <td>162.02</td>\n",
       "      <td>162.2600</td>\n",
       "      <td>1401574</td>\n",
       "      <td>162.29678</td>\n",
       "    </tr>\n",
       "    <tr>\n",
       "      <th>2022-08-29 09:45:00-04:00</th>\n",
       "      <td>162.250</td>\n",
       "      <td>162.375</td>\n",
       "      <td>161.60</td>\n",
       "      <td>161.7580</td>\n",
       "      <td>1241345</td>\n",
       "      <td>162.004572</td>\n",
       "    </tr>\n",
       "    <tr>\n",
       "      <th>2022-08-29 09:50:00-04:00</th>\n",
       "      <td>161.760</td>\n",
       "      <td>162.320</td>\n",
       "      <td>161.73</td>\n",
       "      <td>162.1401</td>\n",
       "      <td>1122594</td>\n",
       "      <td>162.003483</td>\n",
       "    </tr>\n",
       "  </tbody>\n",
       "</table>\n",
       "</div>"
      ],
      "text/plain": [
       "                              open     high  ...   volume       price\n",
       "2022-08-29 09:30:00-04:00  161.145  162.340  ...  4840301  161.397846\n",
       "2022-08-29 09:35:00-04:00  162.360  162.750  ...  1637224  162.333715\n",
       "2022-08-29 09:40:00-04:00  162.030  162.490  ...  1401574   162.29678\n",
       "2022-08-29 09:45:00-04:00  162.250  162.375  ...  1241345  162.004572\n",
       "2022-08-29 09:50:00-04:00  161.760  162.320  ...  1122594  162.003483\n",
       "\n",
       "[5 rows x 6 columns]"
      ]
     },
     "execution_count": 20,
     "metadata": {},
     "output_type": "execute_result"
    }
   ],
   "source": [
    "asset.is_trading_filter(bars).head()"
   ]
  },
  {
   "cell_type": "code",
   "execution_count": null,
   "id": "c79d2359",
   "metadata": {},
   "outputs": [],
   "source": []
  }
 ],
 "metadata": {
  "kernelspec": {
   "display_name": "Python 3.9.5 ('quantrion-dHFsm2Ya-py3.9')",
   "language": "python",
   "name": "python3"
  },
  "language_info": {
   "codemirror_mode": {
    "name": "ipython",
    "version": 3
   },
   "file_extension": ".py",
   "mimetype": "text/x-python",
   "name": "python",
   "nbconvert_exporter": "python",
   "pygments_lexer": "ipython3",
   "version": "3.9.5"
  },
  "vscode": {
   "interpreter": {
    "hash": "41ede3e6dc743b7770fb559b511fbc0edca9becde7ce77d5a8e551d360cff314"
   }
  }
 },
 "nbformat": 4,
 "nbformat_minor": 5
}
